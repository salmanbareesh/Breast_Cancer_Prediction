{
 "cells": [
  {
   "cell_type": "markdown",
   "id": "567888b5",
   "metadata": {
    "papermill": {
     "duration": 0.026228,
     "end_time": "2021-07-25T17:25:10.772594",
     "exception": false,
     "start_time": "2021-07-25T17:25:10.746366",
     "status": "completed"
    },
    "tags": []
   },
   "source": [
    "## Importing Libs"
   ]
  },
  {
   "cell_type": "code",
   "execution_count": 1,
   "id": "144460cd",
   "metadata": {
    "_cell_guid": "b1076dfc-b9ad-4769-8c92-a6c4dae69d19",
    "_uuid": "8f2839f25d086af736a60e9eeb907d3b93b6e0e5",
    "execution": {
     "iopub.execute_input": "2021-07-25T17:25:10.838313Z",
     "iopub.status.busy": "2021-07-25T17:25:10.837654Z",
     "iopub.status.idle": "2021-07-25T17:25:11.924675Z",
     "shell.execute_reply": "2021-07-25T17:25:11.923856Z",
     "shell.execute_reply.started": "2021-07-25T15:27:31.781384Z"
    },
    "papermill": {
     "duration": 1.125017,
     "end_time": "2021-07-25T17:25:11.924905",
     "exception": false,
     "start_time": "2021-07-25T17:25:10.799888",
     "status": "completed"
    },
    "tags": []
   },
   "outputs": [
    {
     "name": "stdout",
     "output_type": "stream",
     "text": [
      "/kaggle/input/breast-cancer-prediction-dataset/Breast_cancer_data.csv\n"
     ]
    }
   ],
   "source": [
    "import numpy as np # linear algebra\n",
    "import pandas as pd # data processing, CSV file I/O (e.g. pd.read_csv)\n",
    "import matplotlib.pyplot as plt\n",
    "from sklearn.model_selection import train_test_split\n",
    "from sklearn import svm\n",
    "from sklearn.metrics import classification_report\n",
    "\n",
    "import os\n",
    "for dirname, _, filenames in os.walk('/kaggle/input'):\n",
    "    for filename in filenames:\n",
    "        print(os.path.join(dirname, filename))\n"
   ]
  },
  {
   "cell_type": "markdown",
   "id": "9c71f12b",
   "metadata": {
    "papermill": {
     "duration": 0.025647,
     "end_time": "2021-07-25T17:25:11.977176",
     "exception": false,
     "start_time": "2021-07-25T17:25:11.951529",
     "status": "completed"
    },
    "tags": []
   },
   "source": [
    "## Reading dataset"
   ]
  },
  {
   "cell_type": "code",
   "execution_count": 2,
   "id": "bc5771d6",
   "metadata": {
    "execution": {
     "iopub.execute_input": "2021-07-25T17:25:12.034201Z",
     "iopub.status.busy": "2021-07-25T17:25:12.033574Z",
     "iopub.status.idle": "2021-07-25T17:25:12.074896Z",
     "shell.execute_reply": "2021-07-25T17:25:12.074264Z",
     "shell.execute_reply.started": "2021-07-25T15:27:32.944105Z"
    },
    "papermill": {
     "duration": 0.071902,
     "end_time": "2021-07-25T17:25:12.075034",
     "exception": false,
     "start_time": "2021-07-25T17:25:12.003132",
     "status": "completed"
    },
    "tags": []
   },
   "outputs": [
    {
     "data": {
      "text/html": [
       "<div>\n",
       "<style scoped>\n",
       "    .dataframe tbody tr th:only-of-type {\n",
       "        vertical-align: middle;\n",
       "    }\n",
       "\n",
       "    .dataframe tbody tr th {\n",
       "        vertical-align: top;\n",
       "    }\n",
       "\n",
       "    .dataframe thead th {\n",
       "        text-align: right;\n",
       "    }\n",
       "</style>\n",
       "<table border=\"1\" class=\"dataframe\">\n",
       "  <thead>\n",
       "    <tr style=\"text-align: right;\">\n",
       "      <th></th>\n",
       "      <th>mean_radius</th>\n",
       "      <th>mean_texture</th>\n",
       "      <th>mean_perimeter</th>\n",
       "      <th>mean_area</th>\n",
       "      <th>mean_smoothness</th>\n",
       "      <th>diagnosis</th>\n",
       "    </tr>\n",
       "  </thead>\n",
       "  <tbody>\n",
       "    <tr>\n",
       "      <th>0</th>\n",
       "      <td>17.990</td>\n",
       "      <td>10.38</td>\n",
       "      <td>122.80</td>\n",
       "      <td>1001.0</td>\n",
       "      <td>0.11840</td>\n",
       "      <td>0</td>\n",
       "    </tr>\n",
       "    <tr>\n",
       "      <th>1</th>\n",
       "      <td>20.570</td>\n",
       "      <td>17.77</td>\n",
       "      <td>132.90</td>\n",
       "      <td>1326.0</td>\n",
       "      <td>0.08474</td>\n",
       "      <td>0</td>\n",
       "    </tr>\n",
       "    <tr>\n",
       "      <th>2</th>\n",
       "      <td>19.690</td>\n",
       "      <td>21.25</td>\n",
       "      <td>130.00</td>\n",
       "      <td>1203.0</td>\n",
       "      <td>0.10960</td>\n",
       "      <td>0</td>\n",
       "    </tr>\n",
       "    <tr>\n",
       "      <th>3</th>\n",
       "      <td>11.420</td>\n",
       "      <td>20.38</td>\n",
       "      <td>77.58</td>\n",
       "      <td>386.1</td>\n",
       "      <td>0.14250</td>\n",
       "      <td>0</td>\n",
       "    </tr>\n",
       "    <tr>\n",
       "      <th>4</th>\n",
       "      <td>20.290</td>\n",
       "      <td>14.34</td>\n",
       "      <td>135.10</td>\n",
       "      <td>1297.0</td>\n",
       "      <td>0.10030</td>\n",
       "      <td>0</td>\n",
       "    </tr>\n",
       "    <tr>\n",
       "      <th>...</th>\n",
       "      <td>...</td>\n",
       "      <td>...</td>\n",
       "      <td>...</td>\n",
       "      <td>...</td>\n",
       "      <td>...</td>\n",
       "      <td>...</td>\n",
       "    </tr>\n",
       "    <tr>\n",
       "      <th>95</th>\n",
       "      <td>20.260</td>\n",
       "      <td>23.03</td>\n",
       "      <td>132.40</td>\n",
       "      <td>1264.0</td>\n",
       "      <td>0.09078</td>\n",
       "      <td>0</td>\n",
       "    </tr>\n",
       "    <tr>\n",
       "      <th>96</th>\n",
       "      <td>12.180</td>\n",
       "      <td>17.84</td>\n",
       "      <td>77.79</td>\n",
       "      <td>451.1</td>\n",
       "      <td>0.10450</td>\n",
       "      <td>1</td>\n",
       "    </tr>\n",
       "    <tr>\n",
       "      <th>97</th>\n",
       "      <td>9.787</td>\n",
       "      <td>19.94</td>\n",
       "      <td>62.11</td>\n",
       "      <td>294.5</td>\n",
       "      <td>0.10240</td>\n",
       "      <td>1</td>\n",
       "    </tr>\n",
       "    <tr>\n",
       "      <th>98</th>\n",
       "      <td>11.600</td>\n",
       "      <td>12.84</td>\n",
       "      <td>74.34</td>\n",
       "      <td>412.6</td>\n",
       "      <td>0.08983</td>\n",
       "      <td>1</td>\n",
       "    </tr>\n",
       "    <tr>\n",
       "      <th>99</th>\n",
       "      <td>14.420</td>\n",
       "      <td>19.77</td>\n",
       "      <td>94.48</td>\n",
       "      <td>642.5</td>\n",
       "      <td>0.09752</td>\n",
       "      <td>0</td>\n",
       "    </tr>\n",
       "  </tbody>\n",
       "</table>\n",
       "<p>100 rows × 6 columns</p>\n",
       "</div>"
      ],
      "text/plain": [
       "    mean_radius  mean_texture  mean_perimeter  mean_area  mean_smoothness  \\\n",
       "0        17.990         10.38          122.80     1001.0          0.11840   \n",
       "1        20.570         17.77          132.90     1326.0          0.08474   \n",
       "2        19.690         21.25          130.00     1203.0          0.10960   \n",
       "3        11.420         20.38           77.58      386.1          0.14250   \n",
       "4        20.290         14.34          135.10     1297.0          0.10030   \n",
       "..          ...           ...             ...        ...              ...   \n",
       "95       20.260         23.03          132.40     1264.0          0.09078   \n",
       "96       12.180         17.84           77.79      451.1          0.10450   \n",
       "97        9.787         19.94           62.11      294.5          0.10240   \n",
       "98       11.600         12.84           74.34      412.6          0.08983   \n",
       "99       14.420         19.77           94.48      642.5          0.09752   \n",
       "\n",
       "    diagnosis  \n",
       "0           0  \n",
       "1           0  \n",
       "2           0  \n",
       "3           0  \n",
       "4           0  \n",
       "..        ...  \n",
       "95          0  \n",
       "96          1  \n",
       "97          1  \n",
       "98          1  \n",
       "99          0  \n",
       "\n",
       "[100 rows x 6 columns]"
      ]
     },
     "execution_count": 2,
     "metadata": {},
     "output_type": "execute_result"
    }
   ],
   "source": [
    "data = pd.read_csv(\"../input/breast-cancer-prediction-dataset/Breast_cancer_data.csv\")\n",
    "data.head(100)"
   ]
  },
  {
   "cell_type": "markdown",
   "id": "0646d7f5",
   "metadata": {
    "papermill": {
     "duration": 0.0262,
     "end_time": "2021-07-25T17:25:12.127879",
     "exception": false,
     "start_time": "2021-07-25T17:25:12.101679",
     "status": "completed"
    },
    "tags": []
   },
   "source": [
    "## Check for skewed classes"
   ]
  },
  {
   "cell_type": "code",
   "execution_count": 3,
   "id": "26d545b6",
   "metadata": {
    "execution": {
     "iopub.execute_input": "2021-07-25T17:25:12.190073Z",
     "iopub.status.busy": "2021-07-25T17:25:12.189409Z",
     "iopub.status.idle": "2021-07-25T17:25:12.192870Z",
     "shell.execute_reply": "2021-07-25T17:25:12.192385Z",
     "shell.execute_reply.started": "2021-07-25T15:27:32.996174Z"
    },
    "papermill": {
     "duration": 0.038859,
     "end_time": "2021-07-25T17:25:12.193003",
     "exception": false,
     "start_time": "2021-07-25T17:25:12.154144",
     "status": "completed"
    },
    "tags": []
   },
   "outputs": [
    {
     "data": {
      "text/plain": [
       "1    357\n",
       "0    212\n",
       "Name: diagnosis, dtype: int64"
      ]
     },
     "execution_count": 3,
     "metadata": {},
     "output_type": "execute_result"
    }
   ],
   "source": [
    "data['diagnosis'].value_counts()"
   ]
  },
  {
   "cell_type": "code",
   "execution_count": 4,
   "id": "946c77ac",
   "metadata": {
    "execution": {
     "iopub.execute_input": "2021-07-25T17:25:12.252140Z",
     "iopub.status.busy": "2021-07-25T17:25:12.251470Z",
     "iopub.status.idle": "2021-07-25T17:25:12.270974Z",
     "shell.execute_reply": "2021-07-25T17:25:12.270264Z",
     "shell.execute_reply.started": "2021-07-25T15:27:33.009170Z"
    },
    "papermill": {
     "duration": 0.050674,
     "end_time": "2021-07-25T17:25:12.271115",
     "exception": false,
     "start_time": "2021-07-25T17:25:12.220441",
     "status": "completed"
    },
    "tags": []
   },
   "outputs": [],
   "source": [
    "benign_data = data[data['diagnosis'] == 0]\n",
    "malignant_data = data[data['diagnosis'] == 1]"
   ]
  },
  {
   "cell_type": "code",
   "execution_count": 5,
   "id": "357c0eff",
   "metadata": {
    "execution": {
     "iopub.execute_input": "2021-07-25T17:25:12.339965Z",
     "iopub.status.busy": "2021-07-25T17:25:12.339259Z",
     "iopub.status.idle": "2021-07-25T17:25:12.341948Z",
     "shell.execute_reply": "2021-07-25T17:25:12.342471Z",
     "shell.execute_reply.started": "2021-07-25T15:27:33.048407Z"
    },
    "papermill": {
     "duration": 0.045063,
     "end_time": "2021-07-25T17:25:12.342629",
     "exception": false,
     "start_time": "2021-07-25T17:25:12.297566",
     "status": "completed"
    },
    "tags": []
   },
   "outputs": [
    {
     "data": {
      "text/html": [
       "<div>\n",
       "<style scoped>\n",
       "    .dataframe tbody tr th:only-of-type {\n",
       "        vertical-align: middle;\n",
       "    }\n",
       "\n",
       "    .dataframe tbody tr th {\n",
       "        vertical-align: top;\n",
       "    }\n",
       "\n",
       "    .dataframe thead th {\n",
       "        text-align: right;\n",
       "    }\n",
       "</style>\n",
       "<table border=\"1\" class=\"dataframe\">\n",
       "  <thead>\n",
       "    <tr style=\"text-align: right;\">\n",
       "      <th></th>\n",
       "      <th>mean_radius</th>\n",
       "      <th>mean_texture</th>\n",
       "      <th>mean_perimeter</th>\n",
       "      <th>mean_area</th>\n",
       "      <th>mean_smoothness</th>\n",
       "      <th>diagnosis</th>\n",
       "    </tr>\n",
       "  </thead>\n",
       "  <tbody>\n",
       "    <tr>\n",
       "      <th>0</th>\n",
       "      <td>17.99</td>\n",
       "      <td>10.38</td>\n",
       "      <td>122.80</td>\n",
       "      <td>1001.0</td>\n",
       "      <td>0.11840</td>\n",
       "      <td>0</td>\n",
       "    </tr>\n",
       "    <tr>\n",
       "      <th>1</th>\n",
       "      <td>20.57</td>\n",
       "      <td>17.77</td>\n",
       "      <td>132.90</td>\n",
       "      <td>1326.0</td>\n",
       "      <td>0.08474</td>\n",
       "      <td>0</td>\n",
       "    </tr>\n",
       "    <tr>\n",
       "      <th>2</th>\n",
       "      <td>19.69</td>\n",
       "      <td>21.25</td>\n",
       "      <td>130.00</td>\n",
       "      <td>1203.0</td>\n",
       "      <td>0.10960</td>\n",
       "      <td>0</td>\n",
       "    </tr>\n",
       "    <tr>\n",
       "      <th>3</th>\n",
       "      <td>11.42</td>\n",
       "      <td>20.38</td>\n",
       "      <td>77.58</td>\n",
       "      <td>386.1</td>\n",
       "      <td>0.14250</td>\n",
       "      <td>0</td>\n",
       "    </tr>\n",
       "    <tr>\n",
       "      <th>4</th>\n",
       "      <td>20.29</td>\n",
       "      <td>14.34</td>\n",
       "      <td>135.10</td>\n",
       "      <td>1297.0</td>\n",
       "      <td>0.10030</td>\n",
       "      <td>0</td>\n",
       "    </tr>\n",
       "    <tr>\n",
       "      <th>5</th>\n",
       "      <td>12.45</td>\n",
       "      <td>15.70</td>\n",
       "      <td>82.57</td>\n",
       "      <td>477.1</td>\n",
       "      <td>0.12780</td>\n",
       "      <td>0</td>\n",
       "    </tr>\n",
       "    <tr>\n",
       "      <th>6</th>\n",
       "      <td>18.25</td>\n",
       "      <td>19.98</td>\n",
       "      <td>119.60</td>\n",
       "      <td>1040.0</td>\n",
       "      <td>0.09463</td>\n",
       "      <td>0</td>\n",
       "    </tr>\n",
       "    <tr>\n",
       "      <th>7</th>\n",
       "      <td>13.71</td>\n",
       "      <td>20.83</td>\n",
       "      <td>90.20</td>\n",
       "      <td>577.9</td>\n",
       "      <td>0.11890</td>\n",
       "      <td>0</td>\n",
       "    </tr>\n",
       "    <tr>\n",
       "      <th>8</th>\n",
       "      <td>13.00</td>\n",
       "      <td>21.82</td>\n",
       "      <td>87.50</td>\n",
       "      <td>519.8</td>\n",
       "      <td>0.12730</td>\n",
       "      <td>0</td>\n",
       "    </tr>\n",
       "    <tr>\n",
       "      <th>9</th>\n",
       "      <td>12.46</td>\n",
       "      <td>24.04</td>\n",
       "      <td>83.97</td>\n",
       "      <td>475.9</td>\n",
       "      <td>0.11860</td>\n",
       "      <td>0</td>\n",
       "    </tr>\n",
       "  </tbody>\n",
       "</table>\n",
       "</div>"
      ],
      "text/plain": [
       "   mean_radius  mean_texture  mean_perimeter  mean_area  mean_smoothness  \\\n",
       "0        17.99         10.38          122.80     1001.0          0.11840   \n",
       "1        20.57         17.77          132.90     1326.0          0.08474   \n",
       "2        19.69         21.25          130.00     1203.0          0.10960   \n",
       "3        11.42         20.38           77.58      386.1          0.14250   \n",
       "4        20.29         14.34          135.10     1297.0          0.10030   \n",
       "5        12.45         15.70           82.57      477.1          0.12780   \n",
       "6        18.25         19.98          119.60     1040.0          0.09463   \n",
       "7        13.71         20.83           90.20      577.9          0.11890   \n",
       "8        13.00         21.82           87.50      519.8          0.12730   \n",
       "9        12.46         24.04           83.97      475.9          0.11860   \n",
       "\n",
       "   diagnosis  \n",
       "0          0  \n",
       "1          0  \n",
       "2          0  \n",
       "3          0  \n",
       "4          0  \n",
       "5          0  \n",
       "6          0  \n",
       "7          0  \n",
       "8          0  \n",
       "9          0  "
      ]
     },
     "execution_count": 5,
     "metadata": {},
     "output_type": "execute_result"
    }
   ],
   "source": [
    "benign_data.head(10)"
   ]
  },
  {
   "cell_type": "code",
   "execution_count": 6,
   "id": "f873a436",
   "metadata": {
    "execution": {
     "iopub.execute_input": "2021-07-25T17:25:12.400821Z",
     "iopub.status.busy": "2021-07-25T17:25:12.400132Z",
     "iopub.status.idle": "2021-07-25T17:25:12.416130Z",
     "shell.execute_reply": "2021-07-25T17:25:12.415563Z",
     "shell.execute_reply.started": "2021-07-25T15:27:33.068090Z"
    },
    "papermill": {
     "duration": 0.046285,
     "end_time": "2021-07-25T17:25:12.416271",
     "exception": false,
     "start_time": "2021-07-25T17:25:12.369986",
     "status": "completed"
    },
    "tags": []
   },
   "outputs": [
    {
     "data": {
      "text/html": [
       "<div>\n",
       "<style scoped>\n",
       "    .dataframe tbody tr th:only-of-type {\n",
       "        vertical-align: middle;\n",
       "    }\n",
       "\n",
       "    .dataframe tbody tr th {\n",
       "        vertical-align: top;\n",
       "    }\n",
       "\n",
       "    .dataframe thead th {\n",
       "        text-align: right;\n",
       "    }\n",
       "</style>\n",
       "<table border=\"1\" class=\"dataframe\">\n",
       "  <thead>\n",
       "    <tr style=\"text-align: right;\">\n",
       "      <th></th>\n",
       "      <th>mean_radius</th>\n",
       "      <th>mean_texture</th>\n",
       "      <th>mean_perimeter</th>\n",
       "      <th>mean_area</th>\n",
       "      <th>mean_smoothness</th>\n",
       "      <th>diagnosis</th>\n",
       "    </tr>\n",
       "  </thead>\n",
       "  <tbody>\n",
       "    <tr>\n",
       "      <th>19</th>\n",
       "      <td>13.540</td>\n",
       "      <td>14.36</td>\n",
       "      <td>87.46</td>\n",
       "      <td>566.3</td>\n",
       "      <td>0.09779</td>\n",
       "      <td>1</td>\n",
       "    </tr>\n",
       "    <tr>\n",
       "      <th>20</th>\n",
       "      <td>13.080</td>\n",
       "      <td>15.71</td>\n",
       "      <td>85.63</td>\n",
       "      <td>520.0</td>\n",
       "      <td>0.10750</td>\n",
       "      <td>1</td>\n",
       "    </tr>\n",
       "    <tr>\n",
       "      <th>21</th>\n",
       "      <td>9.504</td>\n",
       "      <td>12.44</td>\n",
       "      <td>60.34</td>\n",
       "      <td>273.9</td>\n",
       "      <td>0.10240</td>\n",
       "      <td>1</td>\n",
       "    </tr>\n",
       "    <tr>\n",
       "      <th>37</th>\n",
       "      <td>13.030</td>\n",
       "      <td>18.42</td>\n",
       "      <td>82.61</td>\n",
       "      <td>523.8</td>\n",
       "      <td>0.08983</td>\n",
       "      <td>1</td>\n",
       "    </tr>\n",
       "    <tr>\n",
       "      <th>46</th>\n",
       "      <td>8.196</td>\n",
       "      <td>16.84</td>\n",
       "      <td>51.71</td>\n",
       "      <td>201.9</td>\n",
       "      <td>0.08600</td>\n",
       "      <td>1</td>\n",
       "    </tr>\n",
       "    <tr>\n",
       "      <th>48</th>\n",
       "      <td>12.050</td>\n",
       "      <td>14.63</td>\n",
       "      <td>78.04</td>\n",
       "      <td>449.3</td>\n",
       "      <td>0.10310</td>\n",
       "      <td>1</td>\n",
       "    </tr>\n",
       "    <tr>\n",
       "      <th>49</th>\n",
       "      <td>13.490</td>\n",
       "      <td>22.30</td>\n",
       "      <td>86.91</td>\n",
       "      <td>561.0</td>\n",
       "      <td>0.08752</td>\n",
       "      <td>1</td>\n",
       "    </tr>\n",
       "    <tr>\n",
       "      <th>50</th>\n",
       "      <td>11.760</td>\n",
       "      <td>21.60</td>\n",
       "      <td>74.72</td>\n",
       "      <td>427.9</td>\n",
       "      <td>0.08637</td>\n",
       "      <td>1</td>\n",
       "    </tr>\n",
       "    <tr>\n",
       "      <th>51</th>\n",
       "      <td>13.640</td>\n",
       "      <td>16.34</td>\n",
       "      <td>87.21</td>\n",
       "      <td>571.8</td>\n",
       "      <td>0.07685</td>\n",
       "      <td>1</td>\n",
       "    </tr>\n",
       "    <tr>\n",
       "      <th>52</th>\n",
       "      <td>11.940</td>\n",
       "      <td>18.24</td>\n",
       "      <td>75.71</td>\n",
       "      <td>437.6</td>\n",
       "      <td>0.08261</td>\n",
       "      <td>1</td>\n",
       "    </tr>\n",
       "  </tbody>\n",
       "</table>\n",
       "</div>"
      ],
      "text/plain": [
       "    mean_radius  mean_texture  mean_perimeter  mean_area  mean_smoothness  \\\n",
       "19       13.540         14.36           87.46      566.3          0.09779   \n",
       "20       13.080         15.71           85.63      520.0          0.10750   \n",
       "21        9.504         12.44           60.34      273.9          0.10240   \n",
       "37       13.030         18.42           82.61      523.8          0.08983   \n",
       "46        8.196         16.84           51.71      201.9          0.08600   \n",
       "48       12.050         14.63           78.04      449.3          0.10310   \n",
       "49       13.490         22.30           86.91      561.0          0.08752   \n",
       "50       11.760         21.60           74.72      427.9          0.08637   \n",
       "51       13.640         16.34           87.21      571.8          0.07685   \n",
       "52       11.940         18.24           75.71      437.6          0.08261   \n",
       "\n",
       "    diagnosis  \n",
       "19          1  \n",
       "20          1  \n",
       "21          1  \n",
       "37          1  \n",
       "46          1  \n",
       "48          1  \n",
       "49          1  \n",
       "50          1  \n",
       "51          1  \n",
       "52          1  "
      ]
     },
     "execution_count": 6,
     "metadata": {},
     "output_type": "execute_result"
    }
   ],
   "source": [
    "malignant_data.head(10)"
   ]
  },
  {
   "cell_type": "code",
   "execution_count": 7,
   "id": "8a703a33",
   "metadata": {
    "execution": {
     "iopub.execute_input": "2021-07-25T17:25:12.474547Z",
     "iopub.status.busy": "2021-07-25T17:25:12.473959Z",
     "iopub.status.idle": "2021-07-25T17:25:13.835249Z",
     "shell.execute_reply": "2021-07-25T17:25:13.835724Z",
     "shell.execute_reply.started": "2021-07-25T15:27:33.085661Z"
    },
    "papermill": {
     "duration": 1.391963,
     "end_time": "2021-07-25T17:25:13.835920",
     "exception": false,
     "start_time": "2021-07-25T17:25:12.443957",
     "status": "completed"
    },
    "tags": []
   },
   "outputs": [
    {
     "data": {
      "image/png": "[encoded data removed]",
      "text/plain": [
       "<Figure size 432x288 with 1 Axes>"
      ]
     },
     "metadata": {
      "needs_background": "light"
     },
     "output_type": "display_data"
    },
    {
     "data": {
      "image/png": "[encoded data removed]",
      "text/plain": [
       "<Figure size 432x288 with 1 Axes>"
      ]
     },
     "metadata": {
      "needs_background": "light"
     },
     "output_type": "display_data"
    },
    {
     "data": {
      "image/png": "[encoded data removed]",
      "text/plain": [
       "<Figure size 432x288 with 1 Axes>"
      ]
     },
     "metadata": {
      "needs_background": "light"
     },
     "output_type": "display_data"
    },
    {
     "data": {
      "image/png": "[encoded data removed]",
      "text/plain": [
       "<Figure size 432x288 with 1 Axes>"
      ]
     },
     "metadata": {
      "needs_background": "light"
     },
     "output_type": "display_data"
    },
    {
     "data": {
      "image/png": "[encoded data removed]",
      "text/plain": [
       "<Figure size 432x288 with 1 Axes>"
      ]
     },
     "metadata": {
      "needs_background": "light"
     },
     "output_type": "display_data"
    }
   ],
   "source": [
    "attributes = [\"mean_radius\", \"mean_texture\", \"mean_perimeter\", \"mean_area\", \"mean_smoothness\"]\n",
    "\n",
    "for attr in attributes:\n",
    "    b = benign_data.plot(kind='scatter', x=attr, y='diagnosis', label='benign', color='g')\n",
    "    m = malignant_data.plot(kind='scatter', x=attr, y='diagnosis', label='malignant', color='r', ax=b)"
   ]
  },
  {
   "cell_type": "code",
   "execution_count": 8,
   "id": "379058b9",
   "metadata": {
    "execution": {
     "iopub.execute_input": "2021-07-25T17:25:13.934715Z",
     "iopub.status.busy": "2021-07-25T17:25:13.934067Z",
     "iopub.status.idle": "2021-07-25T17:25:15.049796Z",
     "shell.execute_reply": "2021-07-25T17:25:15.050250Z",
     "shell.execute_reply.started": "2021-07-25T15:27:34.441958Z"
    },
    "papermill": {
     "duration": 1.182434,
     "end_time": "2021-07-25T17:25:15.050422",
     "exception": false,
     "start_time": "2021-07-25T17:25:13.867988",
     "status": "completed"
    },
    "tags": []
   },
   "outputs": [
    {
     "data": {
      "image/png": "[encoded data removed]",
      "text/plain": [
       "<Figure size 432x288 with 1 Axes>"
      ]
     },
     "metadata": {
      "needs_background": "light"
     },
     "output_type": "display_data"
    },
    {
     "data": {
      "image/png": "[encoded data removed]",
      "text/plain": [
       "<Figure size 432x288 with 1 Axes>"
      ]
     },
     "metadata": {
      "needs_background": "light"
     },
     "output_type": "display_data"
    },
    {
     "data": {
      "image/png": "[encoded data removed]",
      "text/plain": [
       "<Figure size 432x288 with 1 Axes>"
      ]
     },
     "metadata": {
      "needs_background": "light"
     },
     "output_type": "display_data"
    },
    {
     "data": {
      "image/png": "[encoded data removed]",
      "text/plain": [
       "<Figure size 432x288 with 1 Axes>"
      ]
     },
     "metadata": {
      "needs_background": "light"
     },
     "output_type": "display_data"
    }
   ],
   "source": [
    "for i in range(len(attributes) - 1):\n",
    "    b = benign_data.plot(kind='scatter', x=attributes[i], y=attributes[i + 1], label='benign', color='g')\n",
    "    m = malignant_data.plot(kind='scatter', x=attributes[i], y=attributes[i + 1], label='malignant', color='r', ax=b)"
   ]
  },
  {
   "cell_type": "code",
   "execution_count": 9,
   "id": "8415778a",
   "metadata": {
    "execution": {
     "iopub.execute_input": "2021-07-25T17:25:15.129610Z",
     "iopub.status.busy": "2021-07-25T17:25:15.129013Z",
     "iopub.status.idle": "2021-07-25T17:25:15.132240Z",
     "shell.execute_reply": "2021-07-25T17:25:15.131690Z",
     "shell.execute_reply.started": "2021-07-25T15:28:57.385662Z"
    },
    "papermill": {
     "duration": 0.045983,
     "end_time": "2021-07-25T17:25:15.132371",
     "exception": false,
     "start_time": "2021-07-25T17:25:15.086388",
     "status": "completed"
    },
    "tags": []
   },
   "outputs": [],
   "source": [
    "X = np.asarray(data[[\"mean_radius\", \"mean_texture\", \"mean_perimeter\", \"mean_area\", \"mean_smoothness\"]])\n",
    "y = np.asarray(data[[\"diagnosis\"]])"
   ]
  },
  {
   "cell_type": "markdown",
   "id": "2c357cb3",
   "metadata": {
    "papermill": {
     "duration": 0.035348,
     "end_time": "2021-07-25T17:25:15.203133",
     "exception": false,
     "start_time": "2021-07-25T17:25:15.167785",
     "status": "completed"
    },
    "tags": []
   },
   "source": [
    "## Split dataset"
   ]
  },
  {
   "cell_type": "code",
   "execution_count": 10,
   "id": "0716f585",
   "metadata": {
    "execution": {
     "iopub.execute_input": "2021-07-25T17:25:15.278322Z",
     "iopub.status.busy": "2021-07-25T17:25:15.277633Z",
     "iopub.status.idle": "2021-07-25T17:25:15.280731Z",
     "shell.execute_reply": "2021-07-25T17:25:15.280199Z",
     "shell.execute_reply.started": "2021-07-25T15:28:58.692058Z"
    },
    "papermill": {
     "duration": 0.042381,
     "end_time": "2021-07-25T17:25:15.280886",
     "exception": false,
     "start_time": "2021-07-25T17:25:15.238505",
     "status": "completed"
    },
    "tags": []
   },
   "outputs": [],
   "source": [
    "y = np.ravel(y)"
   ]
  },
  {
   "cell_type": "code",
   "execution_count": 11,
   "id": "89347401",
   "metadata": {
    "execution": {
     "iopub.execute_input": "2021-07-25T17:25:15.358637Z",
     "iopub.status.busy": "2021-07-25T17:25:15.358039Z",
     "iopub.status.idle": "2021-07-25T17:25:15.360660Z",
     "shell.execute_reply": "2021-07-25T17:25:15.360051Z",
     "shell.execute_reply.started": "2021-07-25T15:28:59.712804Z"
    },
    "papermill": {
     "duration": 0.043994,
     "end_time": "2021-07-25T17:25:15.360816",
     "exception": false,
     "start_time": "2021-07-25T17:25:15.316822",
     "status": "completed"
    },
    "tags": []
   },
   "outputs": [],
   "source": [
    "X_train, X_test, y_train, y_test = train_test_split(X, y, test_size=0.2, random_state=4)"
   ]
  },
  {
   "cell_type": "code",
   "execution_count": 12,
   "id": "3b9fcb0b",
   "metadata": {
    "execution": {
     "iopub.execute_input": "2021-07-25T17:25:15.437982Z",
     "iopub.status.busy": "2021-07-25T17:25:15.437256Z",
     "iopub.status.idle": "2021-07-25T17:25:15.441289Z",
     "shell.execute_reply": "2021-07-25T17:25:15.440786Z",
     "shell.execute_reply.started": "2021-07-25T15:29:01.193865Z"
    },
    "papermill": {
     "duration": 0.044501,
     "end_time": "2021-07-25T17:25:15.441423",
     "exception": false,
     "start_time": "2021-07-25T17:25:15.396922",
     "status": "completed"
    },
    "tags": []
   },
   "outputs": [
    {
     "name": "stdout",
     "output_type": "stream",
     "text": [
      "(455, 5)\n",
      "(114, 5)\n",
      "(455,)\n",
      "(114,)\n"
     ]
    }
   ],
   "source": [
    "print(X_train.shape)\n",
    "print(X_test.shape)\n",
    "print(y_train.shape)\n",
    "print(y_test.shape)"
   ]
  },
  {
   "cell_type": "markdown",
   "id": "dcba7afc",
   "metadata": {
    "papermill": {
     "duration": 0.036068,
     "end_time": "2021-07-25T17:25:15.513657",
     "exception": false,
     "start_time": "2021-07-25T17:25:15.477589",
     "status": "completed"
    },
    "tags": []
   },
   "source": [
    "## Define SVM classifier with two different type of kernel function"
   ]
  },
  {
   "cell_type": "code",
   "execution_count": 13,
   "id": "d9195281",
   "metadata": {
    "execution": {
     "iopub.execute_input": "2021-07-25T17:25:15.592940Z",
     "iopub.status.busy": "2021-07-25T17:25:15.592017Z",
     "iopub.status.idle": "2021-07-25T17:25:15.594776Z",
     "shell.execute_reply": "2021-07-25T17:25:15.595323Z",
     "shell.execute_reply.started": "2021-07-25T16:59:34.390330Z"
    },
    "papermill": {
     "duration": 0.045476,
     "end_time": "2021-07-25T17:25:15.595474",
     "exception": false,
     "start_time": "2021-07-25T17:25:15.549998",
     "status": "completed"
    },
    "tags": []
   },
   "outputs": [],
   "source": [
    "def create_and_train_model(X_train, y_train, X_test, y_test):\n",
    "    kernels = ['linear', 'rbf']\n",
    "\n",
    "    for kernel in kernels:\n",
    "        model = svm.SVC(kernel=kernel)\n",
    "        model.fit(X_train, y_train)\n",
    "        y_pred = model.predict(X_test)\n",
    "        print(classification_report(y_test, y_pred))\n",
    "        print('-' * 100)\n",
    "    \n",
    "    return model"
   ]
  },
  {
   "cell_type": "code",
   "execution_count": 14,
   "id": "3dae54ae",
   "metadata": {
    "execution": {
     "iopub.execute_input": "2021-07-25T17:25:15.673512Z",
     "iopub.status.busy": "2021-07-25T17:25:15.672886Z",
     "iopub.status.idle": "2021-07-25T17:25:16.077256Z",
     "shell.execute_reply": "2021-07-25T17:25:16.078074Z",
     "shell.execute_reply.started": "2021-07-25T17:00:01.927023Z"
    },
    "papermill": {
     "duration": 0.4466,
     "end_time": "2021-07-25T17:25:16.078296",
     "exception": false,
     "start_time": "2021-07-25T17:25:15.631696",
     "status": "completed"
    },
    "tags": []
   },
   "outputs": [
    {
     "name": "stdout",
     "output_type": "stream",
     "text": [
      "              precision    recall  f1-score   support\n",
      "\n",
      "           0       0.78      0.94      0.85        34\n",
      "           1       0.97      0.89      0.93        80\n",
      "\n",
      "    accuracy                           0.90       114\n",
      "   macro avg       0.88      0.91      0.89       114\n",
      "weighted avg       0.92      0.90      0.91       114\n",
      "\n",
      "----------------------------------------------------------------------------------------------------\n",
      "              precision    recall  f1-score   support\n",
      "\n",
      "           0       0.81      0.76      0.79        34\n",
      "           1       0.90      0.93      0.91        80\n",
      "\n",
      "    accuracy                           0.88       114\n",
      "   macro avg       0.86      0.84      0.85       114\n",
      "weighted avg       0.88      0.88      0.88       114\n",
      "\n",
      "----------------------------------------------------------------------------------------------------\n"
     ]
    },
    {
     "data": {
      "text/plain": [
       "SVC()"
      ]
     },
     "execution_count": 14,
     "metadata": {},
     "output_type": "execute_result"
    }
   ],
   "source": [
    "create_and_train_model(X_train, y_train, X_test, y_test)"
   ]
  },
  {
   "cell_type": "markdown",
   "id": "af6bf077",
   "metadata": {
    "papermill": {
     "duration": 0.036328,
     "end_time": "2021-07-25T17:25:16.151992",
     "exception": false,
     "start_time": "2021-07-25T17:25:16.115664",
     "status": "completed"
    },
    "tags": []
   },
   "source": [
    "## Writing SVM from scratch"
   ]
  },
  {
   "cell_type": "code",
   "execution_count": 15,
   "id": "13172aab",
   "metadata": {
    "execution": {
     "iopub.execute_input": "2021-07-25T17:25:16.230372Z",
     "iopub.status.busy": "2021-07-25T17:25:16.229718Z",
     "iopub.status.idle": "2021-07-25T17:25:16.967913Z",
     "shell.execute_reply": "2021-07-25T17:25:16.967337Z",
     "shell.execute_reply.started": "2021-07-25T15:29:05.033244Z"
    },
    "papermill": {
     "duration": 0.779525,
     "end_time": "2021-07-25T17:25:16.968052",
     "exception": false,
     "start_time": "2021-07-25T17:25:16.188527",
     "status": "completed"
    },
    "tags": []
   },
   "outputs": [],
   "source": [
    "import statsmodels.api as sm  \n",
    "from sklearn.preprocessing import MinMaxScaler \n",
    "from sklearn.model_selection import train_test_split as tts\n",
    "from sklearn.metrics import accuracy_score \n",
    "from sklearn.utils import shuffle\n"
   ]
  },
  {
   "cell_type": "markdown",
   "id": "b5d2ec28",
   "metadata": {
    "papermill": {
     "duration": 0.037148,
     "end_time": "2021-07-25T17:25:17.042788",
     "exception": false,
     "start_time": "2021-07-25T17:25:17.005640",
     "status": "completed"
    },
    "tags": []
   },
   "source": [
    "## Feature selection and remove correlated features\n",
    "\n",
    "[Feature selection methods](https://www.analyticsvidhya.com/blog/2020/10/feature-selection-techniques-in-machine-learning/)"
   ]
  },
  {
   "cell_type": "markdown",
   "id": "6c149f1c",
   "metadata": {
    "papermill": {
     "duration": 0.036758,
     "end_time": "2021-07-25T17:25:17.116531",
     "exception": false,
     "start_time": "2021-07-25T17:25:17.079773",
     "status": "completed"
    },
    "tags": []
   },
   "source": [
    "### Information Gain"
   ]
  },
  {
   "cell_type": "code",
   "execution_count": 16,
   "id": "d1db44de",
   "metadata": {
    "execution": {
     "iopub.execute_input": "2021-07-25T17:25:17.194546Z",
     "iopub.status.busy": "2021-07-25T17:25:17.193902Z",
     "iopub.status.idle": "2021-07-25T17:25:17.267218Z",
     "shell.execute_reply": "2021-07-25T17:25:17.266620Z",
     "shell.execute_reply.started": "2021-07-25T15:29:10.784248Z"
    },
    "papermill": {
     "duration": 0.114223,
     "end_time": "2021-07-25T17:25:17.267357",
     "exception": false,
     "start_time": "2021-07-25T17:25:17.153134",
     "status": "completed"
    },
    "tags": []
   },
   "outputs": [],
   "source": [
    "from sklearn.feature_selection import mutual_info_classif\n",
    "import matplotlib.pyplot as plt"
   ]
  },
  {
   "cell_type": "code",
   "execution_count": 17,
   "id": "812075a3",
   "metadata": {
    "execution": {
     "iopub.execute_input": "2021-07-25T17:25:17.347021Z",
     "iopub.status.busy": "2021-07-25T17:25:17.346349Z",
     "iopub.status.idle": "2021-07-25T17:25:17.524108Z",
     "shell.execute_reply": "2021-07-25T17:25:17.523576Z",
     "shell.execute_reply.started": "2021-07-25T16:56:03.009750Z"
    },
    "papermill": {
     "duration": 0.220265,
     "end_time": "2021-07-25T17:25:17.524241",
     "exception": false,
     "start_time": "2021-07-25T17:25:17.303976",
     "status": "completed"
    },
    "tags": []
   },
   "outputs": [
    {
     "data": {
      "image/png": "[encoded data removed]",
      "text/plain": [
       "<Figure size 432x288 with 1 Axes>"
      ]
     },
     "metadata": {
      "needs_background": "light"
     },
     "output_type": "display_data"
    }
   ],
   "source": [
    "importances = mutual_info_classif(X, y)\n",
    "\n",
    "feat_importances = pd.Series(importances, data.columns[0: len(data.columns) - 1])\n",
    "feat_importances.plot(kind='barh', color='teal')\n",
    "plt.show()"
   ]
  },
  {
   "cell_type": "code",
   "execution_count": 18,
   "id": "a90510ca",
   "metadata": {
    "execution": {
     "iopub.execute_input": "2021-07-25T17:25:17.609450Z",
     "iopub.status.busy": "2021-07-25T17:25:17.608651Z",
     "iopub.status.idle": "2021-07-25T17:25:17.613616Z",
     "shell.execute_reply": "2021-07-25T17:25:17.614255Z",
     "shell.execute_reply.started": "2021-07-25T17:00:38.921631Z"
    },
    "papermill": {
     "duration": 0.052553,
     "end_time": "2021-07-25T17:25:17.614466",
     "exception": false,
     "start_time": "2021-07-25T17:25:17.561913",
     "status": "completed"
    },
    "tags": []
   },
   "outputs": [
    {
     "name": "stdout",
     "output_type": "stream",
     "text": [
      "(455, 3)\n",
      "(114, 3)\n",
      "(455,)\n",
      "(114,)\n"
     ]
    }
   ],
   "source": [
    "selected_feat = []\n",
    "for feature, importance in feat_importances.items():\n",
    "    if importance > 0.3:\n",
    "        selected_feat.append(feature)\n",
    "\n",
    "\n",
    "refined_X = np.asarray(data[selected_feat])\n",
    "refined_y = np.asarray(data[[\"diagnosis\"]])\n",
    "\n",
    "refined_y = np.ravel(refined_y)\n",
    "\n",
    "X_train, X_test, y_train, y_test = train_test_split(refined_X, refined_y, test_size=0.2, random_state=4)\n",
    "\n",
    "print(X_train.shape)\n",
    "print(X_test.shape)\n",
    "print(y_train.shape)\n",
    "print(y_test.shape)"
   ]
  },
  {
   "cell_type": "code",
   "execution_count": 19,
   "id": "ff073f83",
   "metadata": {
    "execution": {
     "iopub.execute_input": "2021-07-25T17:25:17.696202Z",
     "iopub.status.busy": "2021-07-25T17:25:17.695338Z",
     "iopub.status.idle": "2021-07-25T17:25:18.101864Z",
     "shell.execute_reply": "2021-07-25T17:25:18.101227Z",
     "shell.execute_reply.started": "2021-07-25T17:00:42.365507Z"
    },
    "papermill": {
     "duration": 0.449394,
     "end_time": "2021-07-25T17:25:18.101998",
     "exception": false,
     "start_time": "2021-07-25T17:25:17.652604",
     "status": "completed"
    },
    "tags": []
   },
   "outputs": [
    {
     "name": "stdout",
     "output_type": "stream",
     "text": [
      "              precision    recall  f1-score   support\n",
      "\n",
      "           0       0.79      0.91      0.85        34\n",
      "           1       0.96      0.90      0.93        80\n",
      "\n",
      "    accuracy                           0.90       114\n",
      "   macro avg       0.88      0.91      0.89       114\n",
      "weighted avg       0.91      0.90      0.91       114\n",
      "\n",
      "----------------------------------------------------------------------------------------------------\n",
      "              precision    recall  f1-score   support\n",
      "\n",
      "           0       0.81      0.76      0.79        34\n",
      "           1       0.90      0.93      0.91        80\n",
      "\n",
      "    accuracy                           0.88       114\n",
      "   macro avg       0.86      0.84      0.85       114\n",
      "weighted avg       0.88      0.88      0.88       114\n",
      "\n",
      "----------------------------------------------------------------------------------------------------\n"
     ]
    },
    {
     "data": {
      "text/plain": [
       "SVC()"
      ]
     },
     "execution_count": 19,
     "metadata": {},
     "output_type": "execute_result"
    }
   ],
   "source": [
    "create_and_train_model(X_train, y_train, X_test, y_test)"
   ]
  },
  {
   "cell_type": "markdown",
   "id": "de94f739",
   "metadata": {
    "papermill": {
     "duration": 0.037966,
     "end_time": "2021-07-25T17:25:18.178684",
     "exception": false,
     "start_time": "2021-07-25T17:25:18.140718",
     "status": "completed"
    },
    "tags": []
   },
   "source": [
    "### Chi-square Test\n",
    "mainly used for dataset in which features are categorical."
   ]
  },
  {
   "cell_type": "code",
   "execution_count": 20,
   "id": "5eaf9e0f",
   "metadata": {
    "execution": {
     "iopub.execute_input": "2021-07-25T17:25:18.259251Z",
     "iopub.status.busy": "2021-07-25T17:25:18.258576Z",
     "iopub.status.idle": "2021-07-25T17:25:18.260944Z",
     "shell.execute_reply": "2021-07-25T17:25:18.260309Z",
     "shell.execute_reply.started": "2021-07-25T16:01:31.518251Z"
    },
    "papermill": {
     "duration": 0.044164,
     "end_time": "2021-07-25T17:25:18.261074",
     "exception": false,
     "start_time": "2021-07-25T17:25:18.216910",
     "status": "completed"
    },
    "tags": []
   },
   "outputs": [],
   "source": [
    "from sklearn.feature_selection import SelectKBest\n",
    "from sklearn.feature_selection import chi2"
   ]
  },
  {
   "cell_type": "code",
   "execution_count": 21,
   "id": "ca08bf19",
   "metadata": {
    "execution": {
     "iopub.execute_input": "2021-07-25T17:25:18.340765Z",
     "iopub.status.busy": "2021-07-25T17:25:18.340108Z",
     "iopub.status.idle": "2021-07-25T17:25:18.348879Z",
     "shell.execute_reply": "2021-07-25T17:25:18.347640Z",
     "shell.execute_reply.started": "2021-07-25T17:00:50.563609Z"
    },
    "papermill": {
     "duration": 0.04957,
     "end_time": "2021-07-25T17:25:18.349059",
     "exception": false,
     "start_time": "2021-07-25T17:25:18.299489",
     "status": "completed"
    },
    "tags": []
   },
   "outputs": [
    {
     "name": "stdout",
     "output_type": "stream",
     "text": [
      "(569, 5)\n",
      "(569, 2)\n"
     ]
    }
   ],
   "source": [
    "# Convert to categorical\n",
    "X_cat = X.astype(int)\n",
    "\n",
    "# three features with highest chi-squared statistics\n",
    "chi2_features = SelectKBest(chi2, k = 2)\n",
    "X_kbest_features = chi2_features.fit_transform(X_cat, y)\n",
    "\n",
    "print(X.shape)\n",
    "print(X_kbest_features.shape)"
   ]
  },
  {
   "cell_type": "code",
   "execution_count": 22,
   "id": "1bf9501d",
   "metadata": {
    "execution": {
     "iopub.execute_input": "2021-07-25T17:25:18.456417Z",
     "iopub.status.busy": "2021-07-25T17:25:18.455801Z",
     "iopub.status.idle": "2021-07-25T17:25:18.581015Z",
     "shell.execute_reply": "2021-07-25T17:25:18.581648Z",
     "shell.execute_reply.started": "2021-07-25T16:06:46.190521Z"
    },
    "papermill": {
     "duration": 0.193371,
     "end_time": "2021-07-25T17:25:18.581862",
     "exception": false,
     "start_time": "2021-07-25T17:25:18.388491",
     "status": "completed"
    },
    "tags": []
   },
   "outputs": [
    {
     "data": {
      "image/png": "[encoded data removed]",
      "text/plain": [
       "<Figure size 432x288 with 1 Axes>"
      ]
     },
     "metadata": {
      "needs_background": "light"
     },
     "output_type": "display_data"
    }
   ],
   "source": [
    "plt.scatter(X_kbest_features[:, 0], X_kbest_features[:, 1], marker='^', c=y)\n",
    "plt.scatter(X_kbest_features[:, 0], X_kbest_features[:, 1], marker='o', c=y)\n",
    "plt.show()"
   ]
  },
  {
   "cell_type": "code",
   "execution_count": 23,
   "id": "4d0de9f8",
   "metadata": {
    "execution": {
     "iopub.execute_input": "2021-07-25T17:25:18.666436Z",
     "iopub.status.busy": "2021-07-25T17:25:18.665805Z",
     "iopub.status.idle": "2021-07-25T17:25:19.889295Z",
     "shell.execute_reply": "2021-07-25T17:25:19.888648Z",
     "shell.execute_reply.started": "2021-07-25T17:16:49.801122Z"
    },
    "papermill": {
     "duration": 1.266405,
     "end_time": "2021-07-25T17:25:19.889439",
     "exception": false,
     "start_time": "2021-07-25T17:25:18.623034",
     "status": "completed"
    },
    "tags": []
   },
   "outputs": [
    {
     "name": "stdout",
     "output_type": "stream",
     "text": [
      "              precision    recall  f1-score   support\n",
      "\n",
      "           0       0.73      0.88      0.80        34\n",
      "           1       0.95      0.86      0.90        80\n",
      "\n",
      "    accuracy                           0.87       114\n",
      "   macro avg       0.84      0.87      0.85       114\n",
      "weighted avg       0.88      0.87      0.87       114\n",
      "\n",
      "----------------------------------------------------------------------------------------------------\n",
      "              precision    recall  f1-score   support\n",
      "\n",
      "           0       0.82      0.79      0.81        34\n",
      "           1       0.91      0.93      0.92        80\n",
      "\n",
      "    accuracy                           0.89       114\n",
      "   macro avg       0.87      0.86      0.86       114\n",
      "weighted avg       0.89      0.89      0.89       114\n",
      "\n",
      "----------------------------------------------------------------------------------------------------\n"
     ]
    },
    {
     "data": {
      "text/plain": [
       "SVC()"
      ]
     },
     "execution_count": 23,
     "metadata": {},
     "output_type": "execute_result"
    }
   ],
   "source": [
    "X_train, X_test, y_train, y_test = train_test_split(X_kbest_features, y, test_size=0.2, random_state=4)\n",
    "create_and_train_model(X_train, y_train, X_test, y_test)"
   ]
  },
  {
   "cell_type": "markdown",
   "id": "d41f0981",
   "metadata": {
    "papermill": {
     "duration": 0.040104,
     "end_time": "2021-07-25T17:25:19.970063",
     "exception": false,
     "start_time": "2021-07-25T17:25:19.929959",
     "status": "completed"
    },
    "tags": []
   },
   "source": [
    "### Correlation Coefficient\n",
    "select features that are highly uncorrelated."
   ]
  },
  {
   "cell_type": "code",
   "execution_count": 24,
   "id": "d7e19eec",
   "metadata": {
    "execution": {
     "iopub.execute_input": "2021-07-25T17:25:20.055396Z",
     "iopub.status.busy": "2021-07-25T17:25:20.054764Z",
     "iopub.status.idle": "2021-07-25T17:25:20.655229Z",
     "shell.execute_reply": "2021-07-25T17:25:20.654605Z",
     "shell.execute_reply.started": "2021-07-25T16:12:14.497749Z"
    },
    "papermill": {
     "duration": 0.645029,
     "end_time": "2021-07-25T17:25:20.655358",
     "exception": false,
     "start_time": "2021-07-25T17:25:20.010329",
     "status": "completed"
    },
    "tags": []
   },
   "outputs": [
    {
     "data": {
      "text/plain": [
       "<AxesSubplot:>"
      ]
     },
     "execution_count": 24,
     "metadata": {},
     "output_type": "execute_result"
    },
    {
     "data": {
      "image/png": "[encoded data removed]",
      "text/plain": [
       "<Figure size 432x288 with 2 Axes>"
      ]
     },
     "metadata": {
      "needs_background": "light"
     },
     "output_type": "display_data"
    }
   ],
   "source": [
    "import seaborn as sns\n",
    "\n",
    "cor = data.corr()\n",
    "sns.heatmap(cor, annot=True)"
   ]
  },
  {
   "cell_type": "markdown",
   "id": "85afadd4",
   "metadata": {
    "papermill": {
     "duration": 0.041208,
     "end_time": "2021-07-25T17:25:20.738150",
     "exception": false,
     "start_time": "2021-07-25T17:25:20.696942",
     "status": "completed"
    },
    "tags": []
   },
   "source": [
    "#### Plot two highly correlated features and uncorrelated features"
   ]
  },
  {
   "cell_type": "code",
   "execution_count": 25,
   "id": "3f32ecd0",
   "metadata": {
    "execution": {
     "iopub.execute_input": "2021-07-25T17:25:20.825434Z",
     "iopub.status.busy": "2021-07-25T17:25:20.824814Z",
     "iopub.status.idle": "2021-07-25T17:25:21.334977Z",
     "shell.execute_reply": "2021-07-25T17:25:21.335455Z",
     "shell.execute_reply.started": "2021-07-25T16:27:33.492980Z"
    },
    "papermill": {
     "duration": 0.555563,
     "end_time": "2021-07-25T17:25:21.335615",
     "exception": false,
     "start_time": "2021-07-25T17:25:20.780052",
     "status": "completed"
    },
    "tags": []
   },
   "outputs": [
    {
     "data": {
      "image/png": "[encoded data removed]",
      "text/plain": [
       "<Figure size 432x288 with 1 Axes>"
      ]
     },
     "metadata": {
      "needs_background": "light"
     },
     "output_type": "display_data"
    },
    {
     "data": {
      "image/png": "[encoded data removed]",
      "text/plain": [
       "<Figure size 432x288 with 1 Axes>"
      ]
     },
     "metadata": {
      "needs_background": "light"
     },
     "output_type": "display_data"
    }
   ],
   "source": [
    "b = benign_data.plot(kind='scatter', x=attributes[1], y=attributes[4], label='benign', color='g')\n",
    "m = malignant_data.plot(kind='scatter', x=attributes[1], y=attributes[4], label='malignant', color='r', ax=b, title=\"Unorrelated Features\")\n",
    "\n",
    "b = benign_data.plot(kind='scatter', x=attributes[3], y=attributes[0], label='benign', color='g')\n",
    "m = malignant_data.plot(kind='scatter', x=attributes[3], y=attributes[0], label='malignant', color='r', ax=b, title=\"Correlated Features\")"
   ]
  }
 ],
 "metadata": {
  "kernelspec": {
   "display_name": "Python 3",
   "language": "python",
   "name": "python3"
  },
  "language_info": {
   "codemirror_mode": {
    "name": "ipython",
    "version": 3
   },
   "file_extension": ".py",
   "mimetype": "text/x-python",
   "name": "python",
   "nbconvert_exporter": "python",
   "pygments_lexer": "ipython3",
   "version": "3.7.10"
  },
  "papermill": {
   "default_parameters": {},
   "duration": 19.354125,
   "end_time": "2021-07-25T17:25:22.189422",
   "environment_variables": {},
   "exception": null,
   "input_path": "__notebook__.ipynb",
   "output_path": "__notebook__.ipynb",
   "parameters": {},
   "start_time": "2021-07-25T17:25:02.835297",
   "version": "2.3.3"
  }
 },
 "nbformat": 4,
 "nbformat_minor": 5
}
